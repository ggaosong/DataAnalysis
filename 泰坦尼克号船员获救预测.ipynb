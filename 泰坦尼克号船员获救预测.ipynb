{
 "cells": [
  {
   "cell_type": "code",
   "execution_count": 17,
   "metadata": {},
   "outputs": [
    {
     "name": "stdout",
     "output_type": "stream",
     "text": [
      "       PassengerId    Survived      Pclass         Age       SibSp  \\\n",
      "count   891.000000  891.000000  891.000000  714.000000  891.000000   \n",
      "mean    446.000000    0.383838    2.308642   29.699118    0.523008   \n",
      "std     257.353842    0.486592    0.836071   14.526497    1.102743   \n",
      "min       1.000000    0.000000    1.000000    0.420000    0.000000   \n",
      "25%     223.500000    0.000000    2.000000   20.125000    0.000000   \n",
      "50%     446.000000    0.000000    3.000000   28.000000    0.000000   \n",
      "75%     668.500000    1.000000    3.000000   38.000000    1.000000   \n",
      "max     891.000000    1.000000    3.000000   80.000000    8.000000   \n",
      "\n",
      "            Parch        Fare  \n",
      "count  891.000000  891.000000  \n",
      "mean     0.381594   32.204208  \n",
      "std      0.806057   49.693429  \n",
      "min      0.000000    0.000000  \n",
      "25%      0.000000    7.910400  \n",
      "50%      0.000000   14.454200  \n",
      "75%      0.000000   31.000000  \n",
      "max      6.000000  512.329200  \n"
     ]
    }
   ],
   "source": [
    "import pandas\n",
    "titanic = pandas.read_csv('titanic_train.csv')\n",
    "print(titanic.describe())"
   ]
  },
  {
   "cell_type": "code",
   "execution_count": 18,
   "metadata": {},
   "outputs": [
    {
     "name": "stdout",
     "output_type": "stream",
     "text": [
      "       PassengerId    Survived      Pclass         Age       SibSp  \\\n",
      "count   891.000000  891.000000  891.000000  891.000000  891.000000   \n",
      "mean    446.000000    0.383838    2.308642   29.361582    0.523008   \n",
      "std     257.353842    0.486592    0.836071   13.019697    1.102743   \n",
      "min       1.000000    0.000000    1.000000    0.420000    0.000000   \n",
      "25%     223.500000    0.000000    2.000000   22.000000    0.000000   \n",
      "50%     446.000000    0.000000    3.000000   28.000000    0.000000   \n",
      "75%     668.500000    1.000000    3.000000   35.000000    1.000000   \n",
      "max     891.000000    1.000000    3.000000   80.000000    8.000000   \n",
      "\n",
      "            Parch        Fare  \n",
      "count  891.000000  891.000000  \n",
      "mean     0.381594   32.204208  \n",
      "std      0.806057   49.693429  \n",
      "min      0.000000    0.000000  \n",
      "25%      0.000000    7.910400  \n",
      "50%      0.000000   14.454200  \n",
      "75%      0.000000   31.000000  \n",
      "max      6.000000  512.329200  \n"
     ]
    }
   ],
   "source": [
    "titanic['Age'] = titanic['Age'].fillna(titanic['Age'].median())\n",
    "print(titanic.describe())"
   ]
  },
  {
   "cell_type": "code",
   "execution_count": 19,
   "metadata": {},
   "outputs": [
    {
     "name": "stdout",
     "output_type": "stream",
     "text": [
      "['male' 'female']\n"
     ]
    }
   ],
   "source": [
    "print(titanic['Sex'].unique())\n",
    "titanic.loc[titanic['Sex'] == 'male','Sex'] = 0\n",
    "titanic.loc[titanic['Sex'] == 'female','Sex'] = 1\n"
   ]
  },
  {
   "cell_type": "code",
   "execution_count": 20,
   "metadata": {},
   "outputs": [
    {
     "name": "stdout",
     "output_type": "stream",
     "text": [
      "['S' 'C' 'Q' nan]\n"
     ]
    }
   ],
   "source": [
    "print(titanic['Embarked'].unique())\n",
    "titanic['Embarked'] = titanic['Embarked'].fillna('S')\n",
    "titanic.loc[titanic['Embarked'] == 'S','Embarked'] = 0\n",
    "titanic.loc[titanic['Embarked'] == 'C','Embarked'] = 1\n",
    "titanic.loc[titanic['Embarked'] == 'Q','Embarked'] = 2\n",
    "#print(titanic.head())"
   ]
  },
  {
   "cell_type": "code",
   "execution_count": 21,
   "metadata": {},
   "outputs": [],
   "source": [
    "from sklearn.linear_model import LinearRegression\n",
    "from sklearn.cross_validation import KFold\n",
    "predictors = ['Pclass','Sex','Age','SibSp','Parch','Fare','Embarked']\n",
    "\n",
    "alg =  LinearRegression()\n",
    "\n",
    "#使用Kfold将样本的训练集做一个3倍的交叉验证\n",
    "kf = KFold(titanic.shape[0],n_folds = 3,random_state = 1)\n",
    "#在每次交叉验证中建立回归模型\n",
    "predictions = []\n",
    "for train,test in kf:\n",
    "    #取出训练集中的船员特征属性\n",
    "    train_predictors = (titanic[predictors].iloc[train,:])\n",
    "    #取出训练集中的是否获救的结果\n",
    "    train_target = titanic['Survived'].iloc[train]\n",
    "    #将线性回归应用到数据\n",
    "    alg.fit(train_predictors,train_target)\n",
    "    #运行测试结果\n",
    "    test_predictions = alg.predict(titanic[predictors].iloc[test,:])\n",
    "    #将结果收集\n",
    "    predictions.append(test_predictions)\n",
    "    "
   ]
  },
  {
   "cell_type": "code",
   "execution_count": 22,
   "metadata": {},
   "outputs": [
    {
     "name": "stdout",
     "output_type": "stream",
     "text": [
      "0.7833894500561167\n"
     ]
    }
   ],
   "source": [
    "import numpy as np\n",
    "#调用数组操作函数\n",
    "predictions = np.concatenate(predictions,axis=0)\n",
    "#将输出的0到1区间内的结果以0.5作为分界点做二级分化\n",
    "\n",
    "predictions[predictions > .5] = 1\n",
    "predictions[predictions <= .5] = 0\n",
    "#将预测输出的结果与训练集中的真实结果进行正确率比较\n",
    "accuracy = sum(predictions ==titanic['Survived']) / len(predictions)\n",
    "print(accuracy)\n"
   ]
  },
  {
   "cell_type": "code",
   "execution_count": 23,
   "metadata": {},
   "outputs": [
    {
     "name": "stdout",
     "output_type": "stream",
     "text": [
      "0.7878787878787877\n"
     ]
    }
   ],
   "source": [
    "from sklearn import cross_validation\n",
    "from sklearn.linear_model import LogisticRegression\n",
    "# Initialize our algorithm\n",
    "alg = LogisticRegression(random_state=1)\n",
    "# Compute the accuracy score for all the cross validation folds.  (much simpler than what we did before!)\n",
    "scores = cross_validation.cross_val_score(alg, titanic[predictors], titanic[\"Survived\"], cv=3)\n",
    "# Take the mean of the scores (because we have one for each fold)\n",
    "print(scores.mean())"
   ]
  },
  {
   "cell_type": "code",
   "execution_count": 24,
   "metadata": {
    "scrolled": true
   },
   "outputs": [
    {
     "name": "stdout",
     "output_type": "stream",
     "text": [
      "0.7856341189674523\n"
     ]
    }
   ],
   "source": [
    "from sklearn import cross_validation\n",
    "from sklearn.ensemble import RandomForestClassifier\n",
    "#导入特征集合\n",
    "predictors = ['Pclass','Sex','Age','SibSp','Parch','Fare','Embarked']\n",
    "#创建随机森林 决策树数量 为10个，停止条件为最小树枝为2或最小叶子数为一\n",
    "alg = RandomForestClassifier(random_state = 1,n_estimators = 10,min_samples_split = 2,min_samples_leaf = 1)\n",
    "#再进行一次交叉检验\n",
    "kf =cross_validation.KFold(titanic.shape[0],n_folds = 3,random_state = 1)\n",
    "#进行模型评估 分类器为随机森林，数据为船员特征，目标为生存率，参数为交叉检验的结果\n",
    "scores = cross_validation.cross_val_score(alg,titanic[predictors],titanic['Survived'],cv = kf)\n",
    "\n",
    "print(scores.mean())\n",
    "\n",
    "\n"
   ]
  },
  {
   "cell_type": "code",
   "execution_count": 25,
   "metadata": {},
   "outputs": [
    {
     "name": "stdout",
     "output_type": "stream",
     "text": [
      "0.8159371492704826\n"
     ]
    }
   ],
   "source": [
    "from sklearn import cross_validation\n",
    "from sklearn.ensemble import RandomForestClassifier\n",
    "#导入特征集合\n",
    "predictors = ['Pclass','Sex','Age','SibSp','Parch','Fare','Embarked']\n",
    "#创建随机森林 决策树数量 为50个，停止条件为最小树枝为4或最小叶子数为2\n",
    "alg = RandomForestClassifier(random_state = 1,n_estimators = 50,min_samples_split = 4,min_samples_leaf = 2)\n",
    "#再进行一次交叉检验\n",
    "kf =cross_validation.KFold(titanic.shape[0],n_folds = 3,random_state = 1)\n",
    "#进行模型评估 分类器为随机森林，数据为船员特征，目标为生存率，参数为交叉检验的结果\n",
    "scores = cross_validation.cross_val_score(alg,titanic[predictors],titanic['Survived'],cv = kf)\n",
    "\n",
    "print(scores.mean())"
   ]
  },
  {
   "cell_type": "code",
   "execution_count": 26,
   "metadata": {},
   "outputs": [],
   "source": [
    "#统计家庭规模为长辈与兄弟的总和\n",
    "titanic[\"FamilySize\"] = titanic['SibSp'] + titanic['Parch']\n",
    "#统计船员名字字母总长度\n",
    "\n",
    "titanic['NameLength'] = titanic['Name'].apply(lambda x : len(x))\n"
   ]
  },
  {
   "cell_type": "code",
   "execution_count": 27,
   "metadata": {},
   "outputs": [
    {
     "name": "stdout",
     "output_type": "stream",
     "text": [
      "Mr          517\n",
      "Miss        182\n",
      "Mrs         125\n",
      "Master       40\n",
      "Dr            7\n",
      "Rev           6\n",
      "Mlle          2\n",
      "Col           2\n",
      "Major         2\n",
      "Countess      1\n",
      "Don           1\n",
      "Ms            1\n",
      "Sir           1\n",
      "Jonkheer      1\n",
      "Lady          1\n",
      "Capt          1\n",
      "Mme           1\n",
      "Name: Name, dtype: int64\n",
      "1     517\n",
      "2     183\n",
      "3     125\n",
      "4      40\n",
      "5       7\n",
      "6       6\n",
      "7       5\n",
      "10      3\n",
      "8       3\n",
      "9       2\n",
      "Name: Name, dtype: int64\n"
     ]
    }
   ],
   "source": [
    "import re\n",
    "#使用正则表达 截取人名中的身份称呼\n",
    "def get_title(name):\n",
    "    title_search = re.search('([A-Za-z]+)\\.',name)\n",
    "    if title_search:\n",
    "        return title_search.group(1)\n",
    "    return ''\n",
    "#以身份称呼为分类 统计船员个数\n",
    "titles = titanic['Name'].apply(get_title)\n",
    "print(pandas.value_counts(titles))\n",
    "#将身份称呼进行 数字编码\n",
    "\n",
    "title_mapping = {\"Mr\":1,\"Miss\":2,\"Mrs\":3,\"Master\":4,\"Dr\":5,\"Rev\":6,\"Major\":7,\"Col\":7,\"Mlle\":8,\"Mme\":8,\"Don\":9,\"Lady\":10,\"Countess\":10,\"Jonkheer\":10,\"Str\":9,\"Capt\":7,\"Ms\":2,\"Sir\":9}\n",
    "\n",
    "\n",
    "for k,v in title_mapping.items():\n",
    "     titles[titles==k]=v\n",
    "\n",
    "print(pandas.value_counts(titles))\n",
    " \n",
    "#将转化好的特征新增到数据集名称Title中\n",
    "\n",
    "titanic['Title'] = titles"
   ]
  },
  {
   "cell_type": "code",
   "execution_count": 28,
   "metadata": {},
   "outputs": [
    {
     "data": {
      "image/png": "[encoded data removed]",
      "text/plain": [
       "<Figure size 432x288 with 1 Axes>"
      ]
     },
     "metadata": {},
     "output_type": "display_data"
    },
    {
     "name": "stdout",
     "output_type": "stream",
     "text": [
      "0.819304152637486\n"
     ]
    }
   ],
   "source": [
    "#导入特征选择模块\n",
    "import numpy as np\n",
    "from sklearn import cross_validation\n",
    "from sklearn.feature_selection import SelectKBest,f_classif\n",
    "import matplotlib.pyplot as plt\n",
    "predictors = [\"Pclass\",\"Sex\",\"Age\",\"SibSp\",\"Parch\",\"Fare\",\"Embarked\",\"FamilySize\",\"Title\",\"NameLength\"]\n",
    " \n",
    "#通过加入噪音值观察\n",
    "selector = SelectKBest(f_classif,k=5)\n",
    "selector.fit(titanic[predictors],titanic[\"Survived\"])\n",
    " \n",
    "\n",
    "scores=-np.log10(selector.pvalues_)\n",
    " \n",
    "#输出柱状图\n",
    "plt.bar(range(len(predictors)),scores)\n",
    "plt.xticks(range(len(predictors)),predictors,rotation='vertical')\n",
    "plt.show()\n",
    " \n",
    "#选取影响最大的特征作为新的特征集\n",
    "predictors = [\"Pclass\",\"Sex\",\"Fare\",\"Title\"]\n",
    " \n",
    "\n",
    "alg = RandomForestClassifier(random_state=1,n_estimators=50,min_samples_split=8,min_samples_leaf=4)\n",
    "scores = cross_validation.cross_val_score(alg,titanic[predictors],titanic['Survived'],cv = kf)\n",
    "print(scores.mean())\n"
   ]
  },
  {
   "cell_type": "code",
   "execution_count": 16,
   "metadata": {},
   "outputs": [
    {
     "name": "stdout",
     "output_type": "stream",
     "text": [
      "0.27946127946127947\n"
     ]
    }
   ],
   "source": [
    "from sklearn.ensemble import GradientBoostingClassifier\n",
    "import numpy as np\n",
    "from sklearn.linear_model import LogisticRegression\n",
    "# The algorithms we want to ensemble.\n",
    "# We're using the more linear predictors for the logistic regression, and everything with the gradient boosting classifier.\n",
    "algorithms = [\n",
    "    [GradientBoostingClassifier(random_state=1, n_estimators=25, max_depth=3), [\"Pclass\", \"Sex\", \"Age\", \"Fare\", \"Embarked\", \"FamilySize\", \"Title\",]],\n",
    "    [LogisticRegression(random_state=1), [\"Pclass\", \"Sex\", \"Fare\", \"FamilySize\", \"Title\", \"Age\", \"Embarked\"]]\n",
    "]\n",
    "\n",
    "# Initialize the cross validation folds\n",
    "kf = KFold(titanic.shape[0], n_folds=3, random_state=1)\n",
    "\n",
    "predictions = []\n",
    "for train, test in kf:\n",
    "    train_target = titanic[\"Survived\"].iloc[train]\n",
    "    full_test_predictions = []\n",
    "    # Make predictions for each algorithm on each fold\n",
    "    for alg, predictors in algorithms:\n",
    "        # Fit the algorithm on the training data.\n",
    "        alg.fit(titanic[predictors].iloc[train,:], train_target)\n",
    "        # Select and predict on the test fold.  \n",
    "        # The .astype(float) is necessary to convert the dataframe to all floats and avoid an sklearn error.\n",
    "        test_predictions = alg.predict_proba(titanic[predictors].iloc[test,:].astype(float))[:,1]\n",
    "        full_test_predictions.append(test_predictions)\n",
    "    # Use a simple ensembling scheme -- just average the predictions to get the final classification.\n",
    "    test_predictions = (full_test_predictions[0] + full_test_predictions[1]) / 2\n",
    "    # Any value over .5 is assumed to be a 1 prediction, and below .5 is a 0 prediction.\n",
    "    test_predictions[test_predictions <= .5] = 0\n",
    "    test_predictions[test_predictions > .5] = 1\n",
    "    predictions.append(test_predictions)\n",
    "\n",
    "# Put all the predictions together into one array.\n",
    "predictions = np.concatenate(predictions, axis=0)\n",
    "\n",
    "# Compute accuracy by comparing to the training data.\n",
    "accuracy = sum(predictions[predictions == titanic[\"Survived\"]]) / len(predictions)\n",
    "print(accuracy)\n",
    "\n",
    "\n"
   ]
  },
  {
   "cell_type": "code",
   "execution_count": null,
   "metadata": {},
   "outputs": [],
   "source": []
  },
  {
   "cell_type": "code",
   "execution_count": null,
   "metadata": {},
   "outputs": [],
   "source": []
  }
 ],
 "metadata": {
  "kernelspec": {
   "display_name": "Python 3",
   "language": "python",
   "name": "python3"
  },
  "language_info": {
   "codemirror_mode": {
    "name": "ipython",
    "version": 3
   },
   "file_extension": ".py",
   "mimetype": "text/x-python",
   "name": "python",
   "nbconvert_exporter": "python",
   "pygments_lexer": "ipython3",
   "version": "3.6.5"
  }
 },
 "nbformat": 4,
 "nbformat_minor": 2
}

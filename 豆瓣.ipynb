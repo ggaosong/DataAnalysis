{
 "cells": [
  {
   "cell_type": "code",
   "execution_count": 1,
   "metadata": {},
   "outputs": [
    {
     "name": "stdout",
     "output_type": "stream",
     "text": [
      "<RequestsCookieJar[<Cookie bid=CCSe8HW6NHA for .douban.com/>, <Cookie ll=\"118125\" for .douban.com/>]>\n"
     ]
    }
   ],
   "source": [
    "import requests\n",
    "r = requests.get('https://www.douban.com/')\n",
    "print(r.cookies)"
   ]
  },
  {
   "cell_type": "code",
   "execution_count": 2,
   "metadata": {},
   "outputs": [
    {
     "name": "stdout",
     "output_type": "stream",
     "text": [
      "<html>\r\n",
      "<head><title>403 Forbidden</title></head>\r\n",
      "<body bgcolor=\"white\">\r\n",
      "<center><h1>403 Forbidden</h1></center>\r\n",
      "<hr><center>nginx</center>\r\n",
      "</body>\r\n",
      "</html>\r\n",
      "\n"
     ]
    }
   ],
   "source": [
    "import requests\n",
    "\n",
    "jar = requests.cookies.RequestsCookieJar()\n",
    "jar.set('tasty_cookie', 'yum', domain='.douban.com', path='/cookies')\n",
    "url = 'https://book.douban.com/people/122624856/collect'\n",
    "r = requests.get(url, cookies=jar)\n",
    "print(r.text)\n",
    "\n"
   ]
  },
  {
   "cell_type": "code",
   "execution_count": 10,
   "metadata": {},
   "outputs": [
    {
     "name": "stdout",
     "output_type": "stream",
     "text": [
      "检测到有异常请求从你的 IP 发出，请 <a href=\"https://www.douban.com/accounts/login?redir=https%3A%2F%2Fbook.douban.com%2Fpeople%2F122624856%2Fcollect\">登录</a> 使用豆瓣。\n",
      "\n"
     ]
    }
   ],
   "source": [
    "import requests\n",
    "\n",
    "jar = requests.cookies.RequestsCookieJar()\n",
    "jar.set('bid', 'ehjk9OLdwha', domain='.douban.com', path='/')\n",
    "jar.set('11', '25678', domain='.douban.com', path='/')\n",
    "url = 'https://book.douban.com/people/122624856/collect'\n",
    "r = requests.get(url, cookies=jar)\n",
    "print(r.text)\n",
    "\n"
   ]
  },
  {
   "cell_type": "code",
   "execution_count": 7,
   "metadata": {},
   "outputs": [
    {
     "data": {
      "text/plain": [
       "'88.56.181.121'"
      ]
     },
     "execution_count": 7,
     "metadata": {},
     "output_type": "execute_result"
    }
   ],
   "source": [
    "import random\n",
    "import socket\n",
    "import struct\n",
    "\n",
    "socket.inet_ntoa(struct.pack('>I', random.randint(1, 0xffffffff)))\n",
    "#':'.join('{0:x}'.format(random.randint(0, 2**16 - 1)) for i in range(4)) + ':1' \n"
   ]
  },
  {
   "cell_type": "code",
   "execution_count": null,
   "metadata": {},
   "outputs": [],
   "source": []
  }
 ],
 "metadata": {
  "kernelspec": {
   "display_name": "Python 3",
   "language": "python",
   "name": "python3"
  },
  "language_info": {
   "codemirror_mode": {
    "name": "ipython",
    "version": 3
   },
   "file_extension": ".py",
   "mimetype": "text/x-python",
   "name": "python",
   "nbconvert_exporter": "python",
   "pygments_lexer": "ipython3",
   "version": "3.6.5"
  }
 },
 "nbformat": 4,
 "nbformat_minor": 2
}
